{
 "cells": [
  {
   "cell_type": "markdown",
   "metadata": {},
   "source": [
    "# Etapa 3 - Prueba de hipótesis"
   ]
  },
  {
   "cell_type": "markdown",
   "metadata": {},
   "source": [
    "La hipótesis afirma que existen diferencias en la forma en que los usuarios y las usuarias de Springfield y Shelbyville consumen música. Para comprobar esto, usaremos los datos de tres días de la semana: lunes, miércoles y viernes.\n",
    "\n",
    "* Agruparemos a los usuarios y las usuarias por ciudad.\n",
    "* Compararemos el número de canciones que cada grupo reprodujo el lunes, el miércoles y el viernes.\n",
    "\n",
    "El primer paso es evaluar la actividad del usuario en cada ciudad. \n"
   ]
  },
  {
   "cell_type": "code",
   "execution_count": 1,
   "metadata": {},
   "outputs": [],
   "source": [
    "# importa las librerias requeridas\n",
    "import pandas as pd\n",
    "import os"
   ]
  },
  {
   "cell_type": "code",
   "execution_count": 2,
   "metadata": {},
   "outputs": [],
   "source": [
    "# leer el archivo music_proyect_en.csv de la carpeta datasets y guardarlos en una variable\n",
    "music_clean_df = pd.read_csv('../datasets/clean/music_project_clean.csv') "
   ]
  },
  {
   "cell_type": "code",
   "execution_count": 3,
   "metadata": {},
   "outputs": [
    {
     "name": "stdout",
     "output_type": "stream",
     "text": [
      "             user_id  track  artist  genre   time    day\n",
      "city                                                    \n",
      "Shelbyville    18512  18512   18512  18512  18512  18512\n",
      "Springfield    42741  42741   42741  42741  42741  42741\n"
     ]
    }
   ],
   "source": [
    "# Contar las canciones reproducidas en cada ciudad\n",
    "plays_per_city = music_clean_df.groupby(by = 'city').count()\n",
    "print(plays_per_city)"
   ]
  },
  {
   "cell_type": "markdown",
   "metadata": {},
   "source": [
    "Podemos observar que hay mas reproducciones en la ciudad de Springfield, pero al agrupar por ciudad los valores se ven repetidos, por lo que podriamos optar por usar solo una columna."
   ]
  },
  {
   "cell_type": "code",
   "execution_count": 4,
   "metadata": {},
   "outputs": [
    {
     "name": "stdout",
     "output_type": "stream",
     "text": [
      "           user_id  track  artist  genre   city   time\n",
      "day                                                   \n",
      "Friday       21840  21840   21840  21840  21840  21840\n",
      "Monday       21354  21354   21354  21354  21354  21354\n",
      "Wednesday    18059  18059   18059  18059  18059  18059\n"
     ]
    }
   ],
   "source": [
    "# Calcular las canciones reproducidas en cada uno de los tres días\n",
    "plays_per_day = music_clean_df.groupby(by = 'day').count()\n",
    "print(plays_per_day)"
   ]
  },
  {
   "cell_type": "markdown",
   "metadata": {},
   "source": [
    "En este conjunto podemos observar que entre 'Friday' y 'Monday' tienen casi las mismas reproducciones, solamente entre semana diminuye el numero de reproducciones."
   ]
  },
  {
   "cell_type": "markdown",
   "metadata": {},
   "source": [
    "Ahora se creará la función number_tracks() para calcular el número de canciones reproducidas en un determinado día y ciudad. La función debe aceptar dos parámetros:\n",
    "\n",
    "* day: un día de la semana para filtrar. Por ejemplo, 'Monday' (lunes).\n",
    "* city: una ciudad para filtrar. Por ejemplo, 'Springfield'.\n",
    "\n",
    "Dentro de la función, se aplicará un filtrado consecutivo con indexación lógica.\n",
    "\n",
    "Primero se filtrará los datos por día y luego filtrar la tabla resultante por ciudad.\n",
    "\n",
    "Después de filtrar los datos por dos criterios, se ccontaran el número de valores de la columna 'user_id' en la tabla resultante. Este recuento representa el número de entradas que estamos buscando.\n"
   ]
  },
  {
   "cell_type": "code",
   "execution_count": 6,
   "metadata": {},
   "outputs": [],
   "source": [
    "# Declara la función number_tracks() con dos parámetros: day= y city=.\n",
    "def number_tracks(day,city):\n",
    "    plays_per_day_city = music_clean_df[music_clean_df['day'] == day] # Almacena las filas del DataFrame donde el valor en la columna 'day' es igual al parámetro day=\n",
    "    plays_per_day_city = plays_per_day_city[plays_per_day_city['city'] == city]# Filtra las filas donde el valor en la columna 'city' es igual al parámetro city=\n",
    "    plays_count = plays_per_day_city['user_id'].count()# Extrae la columna 'user_id' de la tabla filtrada y aplica el método count()\n",
    "    return plays_count\n",
    "\n",
    "    # Devolve el número de valores de la columna 'user_id'"
   ]
  },
  {
   "cell_type": "code",
   "execution_count": 7,
   "metadata": {},
   "outputs": [
    {
     "name": "stdout",
     "output_type": "stream",
     "text": [
      "15740\n"
     ]
    }
   ],
   "source": [
    "# El número de canciones reproducidas en Springfield el lunes\n",
    "print(number_tracks('Monday','Springfield'))"
   ]
  },
  {
   "cell_type": "code",
   "execution_count": 8,
   "metadata": {},
   "outputs": [
    {
     "name": "stdout",
     "output_type": "stream",
     "text": [
      "5614\n"
     ]
    }
   ],
   "source": [
    "# El número de canciones reproducidas en Shelbyville el lunes\n",
    "print(number_tracks('Monday','Shelbyville'))"
   ]
  },
  {
   "cell_type": "code",
   "execution_count": 9,
   "metadata": {},
   "outputs": [
    {
     "name": "stdout",
     "output_type": "stream",
     "text": [
      "11056\n"
     ]
    }
   ],
   "source": [
    "# El número de canciones reproducidas en Springfield el miércoles\n",
    "print(number_tracks('Wednesday','Springfield'))"
   ]
  },
  {
   "cell_type": "code",
   "execution_count": 10,
   "metadata": {},
   "outputs": [
    {
     "name": "stdout",
     "output_type": "stream",
     "text": [
      "7003\n"
     ]
    }
   ],
   "source": [
    "# El número de canciones reproducidas en Shelbyville el miércoles\n",
    "print(number_tracks('Wednesday','Shelbyville'))"
   ]
  },
  {
   "cell_type": "code",
   "execution_count": 11,
   "metadata": {},
   "outputs": [
    {
     "name": "stdout",
     "output_type": "stream",
     "text": [
      "15945\n"
     ]
    }
   ],
   "source": [
    "# El número de canciones reproducidas en Springfield el viernes\n",
    "print(number_tracks('Friday','Springfield'))"
   ]
  },
  {
   "cell_type": "code",
   "execution_count": 12,
   "metadata": {},
   "outputs": [
    {
     "name": "stdout",
     "output_type": "stream",
     "text": [
      "5895\n"
     ]
    }
   ],
   "source": [
    "# El número de canciones reproducidas en Shelbyville el viernes\n",
    "print(number_tracks('Friday','Shelbyville'))"
   ]
  },
  {
   "cell_type": "markdown",
   "metadata": {},
   "source": [
    "La hipotesis de que los usuarios difiere segun el dia y dependiendo de la ciudad es correcta.\n",
    "Si ponemos en orden descendente el numero de canciones reproducidas podemos observar que en el caso de Springfield el día que tiene mas reproducciones es el dia viernes mientras que Shelbyville el día de mayor reproducción es el miercoles por lo que si difiere dependiendo el día, asi en cada uno de los días; el segundo día de mayor reproducción en Sprinfield es el día lunes y en Shelbyville es viernes y por ultimo en Springfield el día de menor reproducción es el miercoles en comparación de Shelbyville que es el Lunes."
   ]
  },
  {
   "cell_type": "markdown",
   "metadata": {},
   "source": [
    "Despues de realizar el procesamiento de los datos podemos afirmar que la hipotesis es correcta, los datos nos dan la respuesta a la tarea por lo que es importante siempre tener en cuanta cual es la tarea o pregunta a resolver para determinar que procesos debemos seguir para dar respuesta a la hipotesis."
   ]
  }
 ],
 "metadata": {
  "kernelspec": {
   "display_name": "Python 3",
   "language": "python",
   "name": "python3"
  },
  "language_info": {
   "codemirror_mode": {
    "name": "ipython",
    "version": 3
   },
   "file_extension": ".py",
   "mimetype": "text/x-python",
   "name": "python",
   "nbconvert_exporter": "python",
   "pygments_lexer": "ipython3",
   "version": "3.12.0"
  }
 },
 "nbformat": 4,
 "nbformat_minor": 2
}
