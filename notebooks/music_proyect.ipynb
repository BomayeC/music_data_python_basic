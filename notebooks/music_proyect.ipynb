{
 "cells": [
  {
   "cell_type": "markdown",
   "metadata": {},
   "source": [
    "# Descripción de los datos"
   ]
  },
  {
   "cell_type": "code",
   "execution_count": 16,
   "metadata": {},
   "outputs": [],
   "source": [
    "# importa las librerias requeridas\n",
    "import pandas as pd\n",
    "import os\n"
   ]
  },
  {
   "cell_type": "code",
   "execution_count": 23,
   "metadata": {},
   "outputs": [],
   "source": [
    "# leer el archivo music_proyect_en.csv de la carpeta datasets y guardarlos en una variable\n",
    "music_df = pd.read_csv('../datasets/raw/music_project_en.csv') "
   ]
  },
  {
   "cell_type": "code",
   "execution_count": 24,
   "metadata": {},
   "outputs": [
    {
     "name": "stdout",
     "output_type": "stream",
     "text": [
      "     userID                        Track            artist   genre  \\\n",
      "0  FFB692EC            Kamigata To Boots  The Mass Missile    rock   \n",
      "1  55204538  Delayed Because of Accident  Andreas Rönnberg    rock   \n",
      "2    20EC38            Funiculì funiculà       Mario Lanza     pop   \n",
      "3  A3DD03C9        Dragons in the Sunset        Fire + Ice    folk   \n",
      "4  E2DC1FAE                  Soul People        Space Echo   dance   \n",
      "5  842029A1                       Chains          Obladaet  rusrap   \n",
      "6  4CB90AA5                         True      Roman Messer   dance   \n",
      "7  F03E1C1F             Feeling This Way   Polina Griffith   dance   \n",
      "8  8FA1D3BE                     L’estate       Julia Dalia  ruspop   \n",
      "9  E772D5C0                    Pessimist               NaN   dance   \n",
      "\n",
      "        City        time        Day  \n",
      "0  Shelbyville  20:28:33  Wednesday  \n",
      "1  Springfield  14:07:09     Friday  \n",
      "2  Shelbyville  20:58:07  Wednesday  \n",
      "3  Shelbyville  08:37:09     Monday  \n",
      "4  Springfield  08:34:34     Monday  \n",
      "5  Shelbyville  13:09:41     Friday  \n",
      "6  Springfield  13:00:07  Wednesday  \n",
      "7  Springfield  20:47:49  Wednesday  \n",
      "8  Springfield  09:17:40     Friday  \n",
      "9  Shelbyville  21:20:49  Wednesday  \n"
     ]
    }
   ],
   "source": [
    "# mostrar las primeras filas\n",
    "print(music_df.head(10))"
   ]
  },
  {
   "cell_type": "code",
   "execution_count": 25,
   "metadata": {},
   "outputs": [
    {
     "name": "stdout",
     "output_type": "stream",
     "text": [
      "<class 'pandas.core.frame.DataFrame'>\n",
      "RangeIndex: 65079 entries, 0 to 65078\n",
      "Data columns (total 7 columns):\n",
      " #   Column    Non-Null Count  Dtype \n",
      "---  ------    --------------  ----- \n",
      " 0     userID  65079 non-null  object\n",
      " 1   Track     63736 non-null  object\n",
      " 2   artist    57512 non-null  object\n",
      " 3   genre     63881 non-null  object\n",
      " 4     City    65079 non-null  object\n",
      " 5   time      65079 non-null  object\n",
      " 6   Day       65079 non-null  object\n",
      "dtypes: object(7)\n",
      "memory usage: 3.5+ MB\n"
     ]
    }
   ],
   "source": [
    "music_df.info()"
   ]
  },
  {
   "cell_type": "code",
   "execution_count": 27,
   "metadata": {},
   "outputs": [
    {
     "name": "stdout",
     "output_type": "stream",
     "text": [
      "Valores duplicados:  3826\n"
     ]
    }
   ],
   "source": [
    "print('Valores duplicados: ', music_df.duplicated().sum())"
   ]
  },
  {
   "cell_type": "markdown",
   "metadata": {},
   "source": [
    "Contiene siete columnas. Almacenan los mismos tipos de datos: object.\n",
    "\n",
    "Según la documentación:\n",
    "\n",
    "' userID': identificador del usuario o la usuaria;\n",
    "'Track': título de la canción;\n",
    "'artist': nombre del artista;\n",
    "'genre': género de la pista;\n",
    "'City': ciudad del usuario o la usuaria;\n",
    "'time': la hora exacta en la que se reprodujo la canción;\n",
    "'Day': día de la semana.\n",
    "\n",
    "\n",
    "Podemos ver tres problemas con el estilo en los encabezados de la tabla:\n",
    "\n",
    "Algunos encabezados están en mayúsculas, otros en minúsculas.\n",
    "Hay espacios en algunos encabezados.\n",
    "Encanezados con varias palabras por lo que es necesario usar snake_case."
   ]
  },
  {
   "cell_type": "markdown",
   "metadata": {},
   "source": [
    "Observaciones: \n",
    "\n",
    "1.   ¿Qué tipo de datos tenemos a nuestra disposición en las filas? ¿Y cómo podemos entender lo que almacenan las columnas? \n",
    "\n",
    "Todos los datos son de tipo 'object' y a traves de la documentación y nombre de las columnas podemos determinar que representa cada columna\n",
    "\n",
    "2.   ¿Hay suficientes datos para proporcionar respuestas a nuestra hipótesis o necesitamos más información? \n",
    "\n",
    "Tendriamos que determinar cuales son las ciudades en las que esta contemplado el estudio para poder responder esta pregunta, ya que si son para todo el mundo podriamos decir que los datos no son suficientes, sin embargo podemos delimitar nuestro estudio determinando las ciudades o la región, tambien estamos determinando que solo existe un solo conjunto de datos y no sabemos de donde provienen por lo que podriamos solicitar otras fuentes de datos para poder complementarlos.\n",
    "\n",
    "3.   ¿Notaste algún problema en los datos, como valores ausentes, duplicados o tipos de datos incorrectos? \n",
    "\n",
    "En las columnas 'Track','artist' y 'genre' encontramos valores ausentes, y existen 3826 valores que son duplicados por lo que se deberian eliminar."
   ]
  }
 ],
 "metadata": {
  "kernelspec": {
   "display_name": "Python 3",
   "language": "python",
   "name": "python3"
  },
  "language_info": {
   "codemirror_mode": {
    "name": "ipython",
    "version": 3
   },
   "file_extension": ".py",
   "mimetype": "text/x-python",
   "name": "python",
   "nbconvert_exporter": "python",
   "pygments_lexer": "ipython3",
   "version": "3.12.0"
  }
 },
 "nbformat": 4,
 "nbformat_minor": 2
}
